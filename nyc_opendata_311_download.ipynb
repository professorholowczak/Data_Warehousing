{
  "nbformat": 4,
  "nbformat_minor": 0,
  "metadata": {
    "colab": {
      "provenance": [],
      "authorship_tag": "ABX9TyN1WX4U1r934TKbHV0wIpy/",
      "include_colab_link": true
    },
    "kernelspec": {
      "name": "python3",
      "display_name": "Python 3"
    },
    "language_info": {
      "name": "python"
    }
  },
  "cells": [
    {
      "cell_type": "markdown",
      "metadata": {
        "id": "view-in-github",
        "colab_type": "text"
      },
      "source": [
        "<a href=\"https://colab.research.google.com/github/professorholowczak/Data_Warehousing/blob/main/nyc_opendata_311_download.ipynb\" target=\"_parent\"><img src=\"https://colab.research.google.com/assets/colab-badge.svg\" alt=\"Open In Colab\"/></a>"
      ]
    },
    {
      "cell_type": "code",
      "source": [
        "# Downloading NYC OpenData 311 Data using Google Colab\n",
        "# Likely need to install the sodapy module\n",
        "%pip install sodapy"
      ],
      "metadata": {
        "colab": {
          "base_uri": "https://localhost:8080/"
        },
        "id": "c-AZbVwOwmsq",
        "outputId": "a8d47860-f4dc-46ef-9d93-db78aeebd929"
      },
      "execution_count": 2,
      "outputs": [
        {
          "output_type": "stream",
          "name": "stdout",
          "text": [
            "Looking in indexes: https://pypi.org/simple, https://us-python.pkg.dev/colab-wheels/public/simple/\n",
            "Collecting sodapy\n",
            "  Downloading sodapy-2.2.0-py2.py3-none-any.whl (15 kB)\n",
            "Collecting requests>=2.28.1\n",
            "  Downloading requests-2.28.2-py3-none-any.whl (62 kB)\n",
            "\u001b[2K     \u001b[90m━━━━━━━━━━━━━━━━━━━━━━━━━━━━━━━━━━━━━━━━\u001b[0m \u001b[32m62.8/62.8 kB\u001b[0m \u001b[31m1.9 MB/s\u001b[0m eta \u001b[36m0:00:00\u001b[0m\n",
            "\u001b[?25hRequirement already satisfied: idna<4,>=2.5 in /usr/local/lib/python3.9/dist-packages (from requests>=2.28.1->sodapy) (3.4)\n",
            "Requirement already satisfied: urllib3<1.27,>=1.21.1 in /usr/local/lib/python3.9/dist-packages (from requests>=2.28.1->sodapy) (1.26.15)\n",
            "Requirement already satisfied: certifi>=2017.4.17 in /usr/local/lib/python3.9/dist-packages (from requests>=2.28.1->sodapy) (2022.12.7)\n",
            "Requirement already satisfied: charset-normalizer<4,>=2 in /usr/local/lib/python3.9/dist-packages (from requests>=2.28.1->sodapy) (2.0.12)\n",
            "Installing collected packages: requests, sodapy\n",
            "  Attempting uninstall: requests\n",
            "    Found existing installation: requests 2.27.1\n",
            "    Uninstalling requests-2.27.1:\n",
            "      Successfully uninstalled requests-2.27.1\n",
            "Successfully installed requests-2.28.2 sodapy-2.2.0\n"
          ]
        }
      ]
    },
    {
      "cell_type": "code",
      "execution_count": 3,
      "metadata": {
        "id": "S8PyL9UmwTkf"
      },
      "outputs": [],
      "source": [
        "import pandas as pd\n",
        "from sodapy import Socrata\n",
        "\n",
        "# The Host Name for the API endpoint. The https:// will be added by Sodapy\n",
        "data_url='data.cityofnewyork.us'\n",
        "# The data set at the API endpoint (311 data in this case)\n",
        "data_set='erm2-nwe9'\n",
        "# The app token created at data.cityofnewyork.us/profile/edit/developer_settings\n",
        "app_token='xyz123xyz123xyz123xyz123'    # Put your App token in the quotes\n",
        "\n",
        "# Create the client to point to the API endpoint\n",
        "client = Socrata(data_url, app_token) \n",
        "# Set the timeout to 600 seconds. If we get timeout errors, increase this value\n",
        "client.timeout = 600\n"
      ]
    },
    {
      "cell_type": "code",
      "source": [
        "# Start at record 0 of the results\n",
        "start = 0\n",
        "# Fetch 2000 rows at a time\n",
        "chunk_size = 2000\n",
        "# Empty out our result list\n",
        "results =[]\n",
        "# Set up a filter so we don't try to fetch all of the data\n",
        "where_clause=\"complaint_type LIKE '%Bicycle%' AND date_extract_y(created_date)=2017\"\n",
        "# See how many complaint records there are\n",
        "record_count_dict = client.get(data_set, where=where_clause, select=\"COUNT(*)\")\n",
        "# Save as an integer\n",
        "record_count = int(record_count_dict[0]['COUNT'])\n",
        "\n",
        "# Loop until we have fetched all of the records\n",
        "while True:\n",
        "     # Fetch the set of records starting at 'start'\n",
        "     results.extend( client.get(data_set, where=where_clause, offset=start, limit=chunk_size))\n",
        "     # Move up the starting record for the next chunk\n",
        "     start = start + chunk_size\n",
        "     # Give some feedback\n",
        "     print(\"Downloaded \", chunk_size, \" records starting with \", start, \" of \", record_count)\n",
        "     # If we have fetched all of the records, bail out\n",
        "     if (start > record_count ):\n",
        "        break\n"
      ],
      "metadata": {
        "colab": {
          "base_uri": "https://localhost:8080/"
        },
        "id": "mwbnqynQxXaL",
        "outputId": "77223927-df8f-4fe0-c7b7-d26ebb2bca32"
      },
      "execution_count": 4,
      "outputs": [
        {
          "output_type": "stream",
          "name": "stdout",
          "text": [
            "Downloaded  2000  records starting with  2000  of  1952\n"
          ]
        }
      ]
    },
    {
      "cell_type": "code",
      "source": [
        "len(results)"
      ],
      "metadata": {
        "colab": {
          "base_uri": "https://localhost:8080/"
        },
        "id": "fPOcD4fuER3m",
        "outputId": "64dc5697-6534-4a43-a946-292b725d0c29"
      },
      "execution_count": null,
      "outputs": [
        {
          "output_type": "execute_result",
          "data": {
            "text/plain": [
              "1952"
            ]
          },
          "metadata": {},
          "execution_count": 4
        }
      ]
    },
    {
      "cell_type": "code",
      "source": [],
      "metadata": {
        "id": "gi1NR3Xi74mk"
      },
      "execution_count": null,
      "outputs": []
    },
    {
      "cell_type": "code",
      "source": [
        "# Convert the results list into a pandas data frame\n",
        "df = pd.DataFrame.from_records(results)\n",
        "# Save the dataframe to a CSV file\n",
        "df.to_csv(\"311_bicycle_complaints_2017.csv.gz\", index=False, compression=\"gzip\")"
      ],
      "metadata": {
        "id": "lc7WgkfVxceH"
      },
      "execution_count": null,
      "outputs": []
    },
    {
      "cell_type": "code",
      "source": [
        "# Check some data\n",
        "!zcat 311_bicycle_complaints_2017.csv.gz | head"
      ],
      "metadata": {
        "colab": {
          "base_uri": "https://localhost:8080/"
        },
        "id": "VAwNGEjXyFt7",
        "outputId": "2cbd1ada-89ca-4aff-d901-d63e3a85611a"
      },
      "execution_count": null,
      "outputs": [
        {
          "output_type": "stream",
          "name": "stdout",
          "text": [
            "unique_key,created_date,closed_date,agency,agency_name,complaint_type,descriptor,location_type,incident_zip,incident_address,street_name,cross_street_1,cross_street_2,address_type,city,facility_type,status,resolution_description,resolution_action_updated_date,community_board,bbl,borough,x_coordinate_state_plane,y_coordinate_state_plane,open_data_channel_type,park_facility_name,park_borough,latitude,longitude,location,intersection_street_1,intersection_street_2\n",
            "38060975,2017-12-29T18:12:00.000,2018-03-06T12:00:00.000,DSNY,Department of Sanitation,Derelict Bicycle,14B Derelict Bicycle,Street,11226,1501 NOSTRAND AVENUE,NOSTRAND AVENUE,ERASMUS STREET,SNYDER AVENUE,ADDRESS,BROOKLYN,DSNY Garage,Closed,The Department of Sanitation plowed the area.,2018-03-06T12:00:00.000,17 BROOKLYN,3048840049,BROOKLYN,998283,175926,PHONE,Unspecified,BROOKLYN,40.64954177375759,-73.94942893128558,\"{'latitude': '40.64954177375759', 'longitude': '-73.94942893128558', 'human_address': '{\"\"address\"\": \"\"\"\", \"\"city\"\": \"\"\"\", \"\"state\"\": \"\"\"\", \"\"zip\"\": \"\"\"\"}'}\",,\n",
            "38062855,2017-12-29T16:08:00.000,2018-01-10T12:00:00.000,DSNY,Department of Sanitation,Derelict Bicycle,14B Derelict Bicycle,Street,11231,349 COURT STREET,COURT STREET,UNION STREET,PRESIDENT STREET,ADDRESS,BROOKLYN,DSNY Garage,Closed,\"The Department of Sanitation has investigated the complaint and addressed the issue. If the problem persists, call 311 to enter a new complaint. If you are outside of New York City, please call (212) NEW-YORK (212-639-9675).\",2018-01-10T12:00:00.000,06 BROOKLYN,3004350007,BROOKLYN,985365,187810,ONLINE,Unspecified,BROOKLYN,40.68217176157519,-73.99597988106224,\"{'latitude': '40.68217176157519', 'longitude': '-73.99597988106224', 'human_address': '{\"\"address\"\": \"\"\"\", \"\"city\"\": \"\"\"\", \"\"state\"\": \"\"\"\", \"\"zip\"\": \"\"\"\"}'}\",,\n",
            "38060074,2017-12-29T15:45:00.000,2017-12-30T12:00:00.000,DSNY,Department of Sanitation,Derelict Bicycle,14B Derelict Bicycle,Street,11209,7218 3 AVENUE,3 AVENUE,72 STREET,73 STREET,ADDRESS,BROOKLYN,N/A,Closed,The Department of Sanitation investigated this complaint and found no condition at the location.,2017-12-30T12:00:00.000,10 BROOKLYN,3059070046,BROOKLYN,976745,170016,ONLINE,Unspecified,BROOKLYN,40.63332803040657,-74.02703938177939,\"{'latitude': '40.63332803040657', 'longitude': '-74.02703938177939', 'human_address': '{\"\"address\"\": \"\"\"\", \"\"city\"\": \"\"\"\", \"\"state\"\": \"\"\"\", \"\"zip\"\": \"\"\"\"}'}\",,\n",
            "38035781,2017-12-28T12:21:00.000,2017-12-29T12:00:00.000,DSNY,Department of Sanitation,Derelict Bicycle,14B Derelict Bicycle,Street,11222,145 ECKFORD STREET,ECKFORD STREET,NASSAU AVENUE,NORMAN AVENUE,ADDRESS,BROOKLYN,DSNY Garage,Closed,The Department of Sanitation investigated and found that the bike did not meet the criteria to be classified as derelict.,2017-12-29T12:00:00.000,01 BROOKLYN,3026480030,BROOKLYN,998307,203298,PHONE,Unspecified,BROOKLYN,40.72467158407215,-73.94928533334144,\"{'latitude': '40.72467158407215', 'longitude': '-73.94928533334144', 'human_address': '{\"\"address\"\": \"\"\"\", \"\"city\"\": \"\"\"\", \"\"state\"\": \"\"\"\", \"\"zip\"\": \"\"\"\"}'}\",,\n",
            "38037458,2017-12-28T12:11:00.000,2017-12-30T12:00:00.000,DSNY,Department of Sanitation,Derelict Bicycle,14B Derelict Bicycle,Street,11105,29-09 21 AVENUE,21 AVENUE,29 STREET,31 STREET,ADDRESS,Astoria,DSNY Garage,Closed,The Department of Sanitation investigated and found that the bike did not meet the criteria to be classified as derelict.,2017-12-30T12:00:00.000,01 QUEENS,4008480004,QUEENS,1009396,222916,ONLINE,Unspecified,QUEENS,40.7784934292734,-73.90920524071691,\"{'latitude': '40.7784934292734', 'longitude': '-73.90920524071691', 'human_address': '{\"\"address\"\": \"\"\"\", \"\"city\"\": \"\"\"\", \"\"state\"\": \"\"\"\", \"\"zip\"\": \"\"\"\"}'}\",,\n",
            "38030169,2017-12-27T09:28:00.000,2017-12-30T12:00:00.000,DSNY,Department of Sanitation,Derelict Bicycle,14B Derelict Bicycle,Street,11201,186 REMSEN STREET,REMSEN STREET,CLINTON STREET,,ADDRESS,BROOKLYN,DSNY Garage,Closed,\"The Department of Sanitation has investigated the complaint and addressed the issue. If the problem persists, call 311 to enter a new complaint. If you are outside of New York City, please call (212) NEW-YORK (212-639-9675).\",2017-12-30T12:00:00.000,02 BROOKLYN,3002550042,BROOKLYN,986634,191837,PHONE,Unspecified,BROOKLYN,40.693224701884006,-73.99140309207596,\"{'latitude': '40.693224701884006', 'longitude': '-73.99140309207596', 'human_address': '{\"\"address\"\": \"\"\"\", \"\"city\"\": \"\"\"\", \"\"state\"\": \"\"\"\", \"\"zip\"\": \"\"\"\"}'}\",,\n",
            "38025415,2017-12-26T19:26:00.000,2017-12-27T12:00:00.000,DSNY,Department of Sanitation,Derelict Bicycle,14B Derelict Bicycle,Street,11218,,,,,INTERSECTION,BROOKLYN,DSNY Garage,Closed,The Department of Sanitation investigated and found that the bike did not meet the criteria to be classified as derelict.,2017-12-27T12:00:00.000,Unspecified BROOKLYN,,BROOKLYN,989833,174308,ONLINE,Unspecified,BROOKLYN,40.64511007232208,-73.97988174227162,\"{'latitude': '40.64511007232208', 'longitude': '-73.97988174227162', 'human_address': '{\"\"address\"\": \"\"\"\", \"\"city\"\": \"\"\"\", \"\"state\"\": \"\"\"\", \"\"zip\"\": \"\"\"\"}'}\",MCDONALD AVENUE,ALBEMARLE ROAD\n",
            "38028698,2017-12-26T16:50:00.000,2017-12-27T12:00:00.000,DSNY,Department of Sanitation,Derelict Bicycle,14B Derelict Bicycle,Street,11211,618 METROPOLITAN AVENUE,METROPOLITAN AVENUE,LORIMER STREET,LEONARD STREET,ADDRESS,BROOKLYN,DSNY Garage,Closed,The Department of Sanitation investigated this complaint and found no condition at the location.,2017-12-27T12:00:00.000,01 BROOKLYN,3027620012,BROOKLYN,998541,199462,PHONE,Unspecified,BROOKLYN,40.714142314149804,-73.94844925578968,\"{'latitude': '40.714142314149804', 'longitude': '-73.94844925578968', 'human_address': '{\"\"address\"\": \"\"\"\", \"\"city\"\": \"\"\"\", \"\"state\"\": \"\"\"\", \"\"zip\"\": \"\"\"\"}'}\",,\n",
            "38028744,2017-12-26T16:25:00.000,2017-12-28T12:00:00.000,DSNY,Department of Sanitation,Derelict Bicycle,14B Derelict Bicycle,Street,11373,84-08 BROADWAY,BROADWAY,ST JAMES AVENUE,CORONA AVENUE,ADDRESS,Elmhurst,N/A,Closed,The Department of Sanitation investigated and found that the bike did not meet the criteria to be classified as derelict.,2017-12-28T12:00:00.000,04 QUEENS,4015460020,QUEENS,1017947,208844,ONLINE,Unspecified,QUEENS,40.73984096591036,-73.87840067897906,\"{'latitude': '40.73984096591036', 'longitude': '-73.87840067897906', 'human_address': '{\"\"address\"\": \"\"\"\", \"\"city\"\": \"\"\"\", \"\"state\"\": \"\"\"\", \"\"zip\"\": \"\"\"\"}'}\",,\n"
          ]
        }
      ]
    }
  ]
}